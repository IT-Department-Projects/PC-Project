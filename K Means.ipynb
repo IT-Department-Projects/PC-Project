{
 "cells": [
  {
   "cell_type": "code",
   "execution_count": 13,
   "metadata": {},
   "outputs": [],
   "source": [
    "from scipy import misc\n",
    "import numpy as np\n",
    "import scipy.misc\n",
    "\n",
    "arr = misc.imread('lena.png') # 640x480x3 array\n",
    "arr[20, 30] # 3-vector for a pixel\n",
    "arr[20, 30, 1] # green value for a pixel\n",
    "arr[20, 30, 1] = 200\n",
    "\n",
    "image = np.array(arr)\n",
    "\n",
    "\n",
    "\n",
    "scipy.misc.imsave('outfile.jpg', image)"
   ]
  },
  {
   "cell_type": "code",
   "execution_count": 10,
   "metadata": {
    "collapsed": true
   },
   "outputs": [],
   "source": []
  }
 ],
 "metadata": {
  "kernelspec": {
   "display_name": "Python 3",
   "language": "python",
   "name": "python3"
  },
  "language_info": {
   "codemirror_mode": {
    "name": "ipython",
    "version": 3
   },
   "file_extension": ".py",
   "mimetype": "text/x-python",
   "name": "python",
   "nbconvert_exporter": "python",
   "pygments_lexer": "ipython3",
   "version": "3.6.3"
  }
 },
 "nbformat": 4,
 "nbformat_minor": 2
}
